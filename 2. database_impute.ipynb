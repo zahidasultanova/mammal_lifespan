{
 "cells": [
  {
   "cell_type": "code",
   "execution_count": 10,
   "metadata": {},
   "outputs": [],
   "source": [
    "import os\n",
    "import matplotlib.pyplot as plt # General plotting\n",
    "import pandas as pd \n",
    "import numpy as np\n",
    "import seaborn as sns # Scatterplots and Histograms\n"
   ]
  },
  {
   "cell_type": "code",
   "execution_count": 11,
   "metadata": {},
   "outputs": [
    {
     "name": "stdout",
     "output_type": "stream",
     "text": [
      "0.22.2\n"
     ]
    }
   ],
   "source": [
    "import sklearn\n",
    "print(sklearn.__version__)"
   ]
  },
  {
   "cell_type": "code",
   "execution_count": 12,
   "metadata": {},
   "outputs": [],
   "source": [
    "from sklearn.experimental import enable_iterative_imputer\n",
    "from sklearn.impute import IterativeImputer"
   ]
  },
  {
   "cell_type": "code",
   "execution_count": 13,
   "metadata": {},
   "outputs": [
    {
     "data": {
      "text/plain": [
       "'/gpfs/home/djs19ctu/ML_project/anage_all_data_nogen'"
      ]
     },
     "execution_count": 13,
     "metadata": {},
     "output_type": "execute_result"
    }
   ],
   "source": [
    "os.chdir('/gpfs/home/djs19ctu/ML_project/anage_all_data_nogen')\n",
    "os.getcwd()"
   ]
  },
  {
   "cell_type": "code",
   "execution_count": 14,
   "metadata": {
    "scrolled": true
   },
   "outputs": [
    {
     "data": {
      "text/html": [
       "<div>\n",
       "<style scoped>\n",
       "    .dataframe tbody tr th:only-of-type {\n",
       "        vertical-align: middle;\n",
       "    }\n",
       "\n",
       "    .dataframe tbody tr th {\n",
       "        vertical-align: top;\n",
       "    }\n",
       "\n",
       "    .dataframe thead th {\n",
       "        text-align: right;\n",
       "    }\n",
       "</style>\n",
       "<table border=\"1\" class=\"dataframe\">\n",
       "  <thead>\n",
       "    <tr style=\"text-align: right;\">\n",
       "      <th></th>\n",
       "      <th>count</th>\n",
       "      <th>mean</th>\n",
       "      <th>std</th>\n",
       "      <th>min</th>\n",
       "      <th>25%</th>\n",
       "      <th>50%</th>\n",
       "      <th>75%</th>\n",
       "      <th>max</th>\n",
       "    </tr>\n",
       "  </thead>\n",
       "  <tbody>\n",
       "    <tr>\n",
       "      <th>maximum longevity (yrs)</th>\n",
       "      <td>970.0</td>\n",
       "      <td>19.741134</td>\n",
       "      <td>1.582603e+01</td>\n",
       "      <td>2.100</td>\n",
       "      <td>8.8250</td>\n",
       "      <td>17.0000</td>\n",
       "      <td>25.20000</td>\n",
       "      <td>2.110000e+02</td>\n",
       "    </tr>\n",
       "    <tr>\n",
       "      <th>adult_mass_g</th>\n",
       "      <td>970.0</td>\n",
       "      <td>519906.246910</td>\n",
       "      <td>5.904586e+06</td>\n",
       "      <td>2.365</td>\n",
       "      <td>114.6100</td>\n",
       "      <td>1756.9825</td>\n",
       "      <td>11970.97750</td>\n",
       "      <td>1.490000e+08</td>\n",
       "    </tr>\n",
       "    <tr>\n",
       "      <th>adult_brain_mass_g</th>\n",
       "      <td>758.0</td>\n",
       "      <td>183.077334</td>\n",
       "      <td>7.321168e+02</td>\n",
       "      <td>0.071</td>\n",
       "      <td>3.0225</td>\n",
       "      <td>18.7205</td>\n",
       "      <td>83.75000</td>\n",
       "      <td>7.818000e+03</td>\n",
       "    </tr>\n",
       "    <tr>\n",
       "      <th>female_maturity_d</th>\n",
       "      <td>783.0</td>\n",
       "      <td>726.249641</td>\n",
       "      <td>8.004577e+02</td>\n",
       "      <td>24.000</td>\n",
       "      <td>265.8000</td>\n",
       "      <td>440.0950</td>\n",
       "      <td>851.22500</td>\n",
       "      <td>6.391560e+03</td>\n",
       "    </tr>\n",
       "    <tr>\n",
       "      <th>gestation_length_d</th>\n",
       "      <td>831.0</td>\n",
       "      <td>122.623258</td>\n",
       "      <td>1.054529e+02</td>\n",
       "      <td>12.000</td>\n",
       "      <td>34.0000</td>\n",
       "      <td>88.2640</td>\n",
       "      <td>178.50000</td>\n",
       "      <td>6.696800e+02</td>\n",
       "    </tr>\n",
       "    <tr>\n",
       "      <th>litter_size_n</th>\n",
       "      <td>938.0</td>\n",
       "      <td>2.414329</td>\n",
       "      <td>1.884347e+00</td>\n",
       "      <td>0.950</td>\n",
       "      <td>1.0000</td>\n",
       "      <td>1.6450</td>\n",
       "      <td>3.23625</td>\n",
       "      <td>1.689000e+01</td>\n",
       "    </tr>\n",
       "    <tr>\n",
       "      <th>litters_per_year_n</th>\n",
       "      <td>772.0</td>\n",
       "      <td>1.564224</td>\n",
       "      <td>1.220286e+00</td>\n",
       "      <td>0.120</td>\n",
       "      <td>1.0000</td>\n",
       "      <td>1.0000</td>\n",
       "      <td>2.00000</td>\n",
       "      <td>1.000000e+01</td>\n",
       "    </tr>\n",
       "    <tr>\n",
       "      <th>weaning_age_d</th>\n",
       "      <td>791.0</td>\n",
       "      <td>147.184426</td>\n",
       "      <td>1.658088e+02</td>\n",
       "      <td>2.170</td>\n",
       "      <td>39.8915</td>\n",
       "      <td>84.0000</td>\n",
       "      <td>182.80800</td>\n",
       "      <td>1.112131e+03</td>\n",
       "    </tr>\n",
       "    <tr>\n",
       "      <th>hibernation_torpor</th>\n",
       "      <td>919.0</td>\n",
       "      <td>0.118607</td>\n",
       "      <td>3.235018e-01</td>\n",
       "      <td>0.000</td>\n",
       "      <td>0.0000</td>\n",
       "      <td>0.0000</td>\n",
       "      <td>0.00000</td>\n",
       "      <td>1.000000e+00</td>\n",
       "    </tr>\n",
       "    <tr>\n",
       "      <th>trophic_level</th>\n",
       "      <td>965.0</td>\n",
       "      <td>1.854922</td>\n",
       "      <td>7.821194e-01</td>\n",
       "      <td>1.000</td>\n",
       "      <td>1.0000</td>\n",
       "      <td>2.0000</td>\n",
       "      <td>2.00000</td>\n",
       "      <td>3.000000e+00</td>\n",
       "    </tr>\n",
       "    <tr>\n",
       "      <th>activity_cycle</th>\n",
       "      <td>936.0</td>\n",
       "      <td>1.795940</td>\n",
       "      <td>7.876212e-01</td>\n",
       "      <td>1.000</td>\n",
       "      <td>1.0000</td>\n",
       "      <td>2.0000</td>\n",
       "      <td>2.00000</td>\n",
       "      <td>3.000000e+00</td>\n",
       "    </tr>\n",
       "    <tr>\n",
       "      <th>freshwater</th>\n",
       "      <td>966.0</td>\n",
       "      <td>0.043478</td>\n",
       "      <td>2.040368e-01</td>\n",
       "      <td>0.000</td>\n",
       "      <td>0.0000</td>\n",
       "      <td>0.0000</td>\n",
       "      <td>0.00000</td>\n",
       "      <td>1.000000e+00</td>\n",
       "    </tr>\n",
       "    <tr>\n",
       "      <th>marine</th>\n",
       "      <td>966.0</td>\n",
       "      <td>0.054865</td>\n",
       "      <td>2.278353e-01</td>\n",
       "      <td>0.000</td>\n",
       "      <td>0.0000</td>\n",
       "      <td>0.0000</td>\n",
       "      <td>0.00000</td>\n",
       "      <td>1.000000e+00</td>\n",
       "    </tr>\n",
       "    <tr>\n",
       "      <th>terrestrial_non-volant</th>\n",
       "      <td>966.0</td>\n",
       "      <td>0.861284</td>\n",
       "      <td>3.458293e-01</td>\n",
       "      <td>0.000</td>\n",
       "      <td>1.0000</td>\n",
       "      <td>1.0000</td>\n",
       "      <td>1.00000</td>\n",
       "      <td>1.000000e+00</td>\n",
       "    </tr>\n",
       "    <tr>\n",
       "      <th>terrestrial_volant</th>\n",
       "      <td>966.0</td>\n",
       "      <td>0.097308</td>\n",
       "      <td>2.965309e-01</td>\n",
       "      <td>0.000</td>\n",
       "      <td>0.0000</td>\n",
       "      <td>0.0000</td>\n",
       "      <td>0.00000</td>\n",
       "      <td>1.000000e+00</td>\n",
       "    </tr>\n",
       "    <tr>\n",
       "      <th>habitat_breadth_n</th>\n",
       "      <td>955.0</td>\n",
       "      <td>2.550785</td>\n",
       "      <td>1.453070e+00</td>\n",
       "      <td>1.000</td>\n",
       "      <td>1.0000</td>\n",
       "      <td>2.0000</td>\n",
       "      <td>3.00000</td>\n",
       "      <td>9.000000e+00</td>\n",
       "    </tr>\n",
       "  </tbody>\n",
       "</table>\n",
       "</div>"
      ],
      "text/plain": [
       "                         count           mean           std     min       25%  \\\n",
       "maximum longevity (yrs)  970.0      19.741134  1.582603e+01   2.100    8.8250   \n",
       "adult_mass_g             970.0  519906.246910  5.904586e+06   2.365  114.6100   \n",
       "adult_brain_mass_g       758.0     183.077334  7.321168e+02   0.071    3.0225   \n",
       "female_maturity_d        783.0     726.249641  8.004577e+02  24.000  265.8000   \n",
       "gestation_length_d       831.0     122.623258  1.054529e+02  12.000   34.0000   \n",
       "litter_size_n            938.0       2.414329  1.884347e+00   0.950    1.0000   \n",
       "litters_per_year_n       772.0       1.564224  1.220286e+00   0.120    1.0000   \n",
       "weaning_age_d            791.0     147.184426  1.658088e+02   2.170   39.8915   \n",
       "hibernation_torpor       919.0       0.118607  3.235018e-01   0.000    0.0000   \n",
       "trophic_level            965.0       1.854922  7.821194e-01   1.000    1.0000   \n",
       "activity_cycle           936.0       1.795940  7.876212e-01   1.000    1.0000   \n",
       "freshwater               966.0       0.043478  2.040368e-01   0.000    0.0000   \n",
       "marine                   966.0       0.054865  2.278353e-01   0.000    0.0000   \n",
       "terrestrial_non-volant   966.0       0.861284  3.458293e-01   0.000    1.0000   \n",
       "terrestrial_volant       966.0       0.097308  2.965309e-01   0.000    0.0000   \n",
       "habitat_breadth_n        955.0       2.550785  1.453070e+00   1.000    1.0000   \n",
       "\n",
       "                               50%          75%           max  \n",
       "maximum longevity (yrs)    17.0000     25.20000  2.110000e+02  \n",
       "adult_mass_g             1756.9825  11970.97750  1.490000e+08  \n",
       "adult_brain_mass_g         18.7205     83.75000  7.818000e+03  \n",
       "female_maturity_d         440.0950    851.22500  6.391560e+03  \n",
       "gestation_length_d         88.2640    178.50000  6.696800e+02  \n",
       "litter_size_n               1.6450      3.23625  1.689000e+01  \n",
       "litters_per_year_n          1.0000      2.00000  1.000000e+01  \n",
       "weaning_age_d              84.0000    182.80800  1.112131e+03  \n",
       "hibernation_torpor          0.0000      0.00000  1.000000e+00  \n",
       "trophic_level               2.0000      2.00000  3.000000e+00  \n",
       "activity_cycle              2.0000      2.00000  3.000000e+00  \n",
       "freshwater                  0.0000      0.00000  1.000000e+00  \n",
       "marine                      0.0000      0.00000  1.000000e+00  \n",
       "terrestrial_non-volant      1.0000      1.00000  1.000000e+00  \n",
       "terrestrial_volant          0.0000      0.00000  1.000000e+00  \n",
       "habitat_breadth_n           2.0000      3.00000  9.000000e+00  "
      ]
     },
     "execution_count": 14,
     "metadata": {},
     "output_type": "execute_result"
    }
   ],
   "source": [
    "mammal_data_filtered = pd.read_csv('mammal_data_filtered.csv')\n",
    "mammal_data_filtered.describe().T"
   ]
  },
  {
   "cell_type": "code",
   "execution_count": 15,
   "metadata": {},
   "outputs": [
    {
     "name": "stdout",
     "output_type": "stream",
     "text": [
      "<class 'pandas.core.frame.DataFrame'>\n",
      "RangeIndex: 970 entries, 0 to 969\n",
      "Data columns (total 23 columns):\n",
      " #   Column                   Non-Null Count  Dtype  \n",
      "---  ------                   --------------  -----  \n",
      " 0   order                    970 non-null    object \n",
      " 1   family                   970 non-null    object \n",
      " 2   genus                    970 non-null    object \n",
      " 3   species                  970 non-null    object \n",
      " 4   specimen origin          970 non-null    object \n",
      " 5   sample size              970 non-null    object \n",
      " 6   data quality             970 non-null    object \n",
      " 7   maximum longevity (yrs)  970 non-null    float64\n",
      " 8   adult_mass_g             970 non-null    float64\n",
      " 9   adult_brain_mass_g       758 non-null    float64\n",
      " 10  female_maturity_d        783 non-null    float64\n",
      " 11  gestation_length_d       831 non-null    float64\n",
      " 12  litter_size_n            938 non-null    float64\n",
      " 13  litters_per_year_n       772 non-null    float64\n",
      " 14  weaning_age_d            791 non-null    float64\n",
      " 15  hibernation_torpor       919 non-null    float64\n",
      " 16  trophic_level            965 non-null    float64\n",
      " 17  activity_cycle           936 non-null    float64\n",
      " 18  freshwater               966 non-null    float64\n",
      " 19  marine                   966 non-null    float64\n",
      " 20  terrestrial_non-volant   966 non-null    float64\n",
      " 21  terrestrial_volant       966 non-null    float64\n",
      " 22  habitat_breadth_n        955 non-null    float64\n",
      "dtypes: float64(16), object(7)\n",
      "memory usage: 174.4+ KB\n"
     ]
    }
   ],
   "source": [
    "mammal_data_filtered.info()"
   ]
  },
  {
   "cell_type": "markdown",
   "metadata": {},
   "source": [
    "# IMPUTATION OF MISSING VALUES"
   ]
  },
  {
   "cell_type": "code",
   "execution_count": 16,
   "metadata": {},
   "outputs": [
    {
     "name": "stdout",
     "output_type": "stream",
     "text": [
      "Training data shape: (776, 23)\n",
      "Testing data shape: (194, 23)\n"
     ]
    }
   ],
   "source": [
    "from sklearn.model_selection import train_test_split, KFold\n",
    "\n",
    "mammal_data_filtered = pd.read_csv('mammal_data_filtered.csv')\n",
    "\n",
    "train_mammal_data_anage, test_mammal_data_anage = train_test_split(mammal_data_filtered, test_size=0.2, random_state=42)\n",
    "\n",
    "# Display the shapes of the resulting datasets\n",
    "print(f\"Training data shape: {train_mammal_data_anage.shape}\")\n",
    "print(f\"Testing data shape: {test_mammal_data_anage.shape}\")\n"
   ]
  },
  {
   "cell_type": "code",
   "execution_count": 17,
   "metadata": {},
   "outputs": [
    {
     "name": "stdout",
     "output_type": "stream",
     "text": [
      "Number of unique orders training: 22\n",
      "Number of unique families training: 113\n",
      "Number of unique genera training: 462\n",
      "Number of unique orders testing: 17\n",
      "Number of unique families testing: 70\n",
      "Number of unique genera testing: 161\n"
     ]
    }
   ],
   "source": [
    "\n",
    "# Print the results\n",
    "print(f\"Number of unique orders training: {train_mammal_data_anage['order'].nunique()}\")\n",
    "print(f\"Number of unique families training: {train_mammal_data_anage['family'].nunique()}\")\n",
    "print(f\"Number of unique genera training: {train_mammal_data_anage['genus'].nunique()}\")\n",
    "\n",
    "print(f\"Number of unique orders testing: {test_mammal_data_anage['order'].nunique()}\")\n",
    "print(f\"Number of unique families testing: {test_mammal_data_anage['family'].nunique()}\")\n",
    "print(f\"Number of unique genera testing: {test_mammal_data_anage['genus'].nunique()}\")"
   ]
  },
  {
   "cell_type": "code",
   "execution_count": 18,
   "metadata": {},
   "outputs": [
    {
     "name": "stdout",
     "output_type": "stream",
     "text": [
      "Training data shape after encoding: (776, 44)\n",
      "Testing data shape after encoding: (194, 44)\n"
     ]
    }
   ],
   "source": [
    "from sklearn.preprocessing import OneHotEncoder\n",
    "import pandas as pd\n",
    "\n",
    "# Define the column to encode\n",
    "categorical_feature = 'order'\n",
    "\n",
    "# Initialize the OneHotEncoder\n",
    "encoder = OneHotEncoder(handle_unknown='ignore', sparse=False)\n",
    "\n",
    "# Fit the encoder on the training data and transform\n",
    "encoded_train_order = encoder.fit_transform(train_mammal_data_anage[[categorical_feature]])\n",
    "\n",
    "# Transform the testing data using the same encoder\n",
    "encoded_test_order = encoder.transform(test_mammal_data_anage[[categorical_feature]])\n",
    "\n",
    "# Convert the encoded arrays back to DataFrames with appropriate column names\n",
    "encoded_train_order_df = pd.DataFrame(\n",
    "    encoded_train_order, \n",
    "    columns=encoder.get_feature_names([categorical_feature]), \n",
    "    index=train_mammal_data_anage.index\n",
    ")\n",
    "\n",
    "encoded_test_order_df = pd.DataFrame(\n",
    "    encoded_test_order, \n",
    "    columns=encoder.get_feature_names([categorical_feature]), \n",
    "    index=test_mammal_data_anage.index\n",
    ")\n",
    "\n",
    "# Drop the original 'order' column and append the encoded columns\n",
    "train_mammal_data_anage_encoded = pd.concat(\n",
    "    [train_mammal_data_anage.drop(columns=[categorical_feature]), encoded_train_order_df], axis=1\n",
    ")\n",
    "\n",
    "test_mammal_data_anage_encoded = pd.concat(\n",
    "    [test_mammal_data_anage.drop(columns=[categorical_feature]), encoded_test_order_df], axis=1\n",
    ")\n",
    "\n",
    "# Display the resulting shapes\n",
    "print(f\"Training data shape after encoding: {train_mammal_data_anage_encoded.shape}\")\n",
    "print(f\"Testing data shape after encoding: {test_mammal_data_anage_encoded.shape}\")\n"
   ]
  },
  {
   "cell_type": "code",
   "execution_count": 19,
   "metadata": {},
   "outputs": [
    {
     "name": "stdout",
     "output_type": "stream",
     "text": [
      "['order_Afrosoricida' 'order_Carnivora' 'order_Cetartiodactyla'\n",
      " 'order_Chiroptera' 'order_Cingulata' 'order_Dasyuromorphia'\n",
      " 'order_Didelphimorphia' 'order_Diprotodontia' 'order_Eulipotyphla'\n",
      " 'order_Hyracoidea' 'order_Lagomorpha' 'order_Macroscelidea'\n",
      " 'order_Monotremata' 'order_Peramelemorphia' 'order_Perissodactyla'\n",
      " 'order_Pilosa' 'order_Primates' 'order_Proboscidea' 'order_Rodentia'\n",
      " 'order_Scandentia' 'order_Sirenia' 'order_Tubulidentata']\n"
     ]
    }
   ],
   "source": [
    "# Get feature names for the one-hot encoded columns\n",
    "order_feature_names = encoder.get_feature_names([categorical_feature])\n",
    "print(order_feature_names)"
   ]
  },
  {
   "cell_type": "code",
   "execution_count": 20,
   "metadata": {},
   "outputs": [
    {
     "name": "stdout",
     "output_type": "stream",
     "text": [
      "['adult_mass_g', 'adult_brain_mass_g', 'female_maturity_d', 'gestation_length_d', 'litter_size_n', 'litters_per_year_n', 'weaning_age_d', 'freshwater', 'marine', 'terrestrial_non-volant', 'terrestrial_volant', 'hibernation_torpor', 'order_Afrosoricida', 'order_Carnivora', 'order_Cetartiodactyla', 'order_Chiroptera', 'order_Cingulata', 'order_Dasyuromorphia', 'order_Didelphimorphia', 'order_Diprotodontia', 'order_Eulipotyphla', 'order_Hyracoidea', 'order_Lagomorpha', 'order_Macroscelidea', 'order_Monotremata', 'order_Peramelemorphia', 'order_Perissodactyla', 'order_Pilosa', 'order_Primates', 'order_Proboscidea', 'order_Rodentia', 'order_Scandentia', 'order_Sirenia', 'order_Tubulidentata', 'trophic_level', 'activity_cycle', 'habitat_breadth_n']\n",
      "['adult_mass_g', 'adult_brain_mass_g', 'female_maturity_d', 'gestation_length_d', 'litter_size_n', 'litters_per_year_n', 'weaning_age_d', 'freshwater', 'marine', 'terrestrial_non-volant', 'terrestrial_volant', 'hibernation_torpor', 'order_Afrosoricida', 'order_Carnivora', 'order_Cetartiodactyla', 'order_Chiroptera', 'order_Cingulata', 'order_Dasyuromorphia', 'order_Didelphimorphia', 'order_Diprotodontia', 'order_Eulipotyphla', 'order_Hyracoidea', 'order_Lagomorpha', 'order_Macroscelidea', 'order_Monotremata', 'order_Peramelemorphia', 'order_Perissodactyla', 'order_Pilosa', 'order_Primates', 'order_Proboscidea', 'order_Rodentia', 'order_Scandentia', 'order_Sirenia', 'order_Tubulidentata', 'trophic_level', 'activity_cycle', 'habitat_breadth_n']\n"
     ]
    }
   ],
   "source": [
    "\n",
    "### I will impute variables that have less than 25% NAs.\n",
    "\n",
    "\n",
    "### Before Imputing ###\n",
    "\n",
    "\n",
    "# Define the features to be imputed\n",
    "numeric_features = ['adult_mass_g', 'adult_brain_mass_g',\n",
    "             'female_maturity_d', 'gestation_length_d',\n",
    "             'litter_size_n', 'litters_per_year_n',\n",
    "             'weaning_age_d']\n",
    "\n",
    "binary_features_no_order = ['freshwater', 'marine', 'terrestrial_non-volant', 'terrestrial_volant', 'hibernation_torpor']\n",
    "binary_features = binary_features_no_order + list(order_feature_names)\n",
    "\n",
    "\n",
    "integer_features = ['trophic_level', 'activity_cycle', 'habitat_breadth_n']\n",
    "\n",
    "# Separate the data\n",
    "\n",
    "train_numeric_features = train_mammal_data_anage_encoded[numeric_features]\n",
    "train_binary_features = train_mammal_data_anage_encoded[binary_features]\n",
    "train_integer_features = train_mammal_data_anage_encoded[integer_features]\n",
    "\n",
    "test_numeric_features = test_mammal_data_anage_encoded[numeric_features]\n",
    "test_binary_features = test_mammal_data_anage_encoded[binary_features]\n",
    "test_integer_features = test_mammal_data_anage_encoded[integer_features]\n",
    "\n",
    "train_features = pd.concat([train_numeric_features, train_binary_features, train_integer_features], axis=1)\n",
    "\n",
    "test_features = pd.concat([test_numeric_features, test_binary_features, test_integer_features], axis=1)\n",
    "\n",
    "print(train_features.columns.tolist())\n",
    "print(test_features.columns.tolist())\n"
   ]
  },
  {
   "cell_type": "code",
   "execution_count": 21,
   "metadata": {},
   "outputs": [
    {
     "name": "stdout",
     "output_type": "stream",
     "text": [
      "Train Features Imputed Summary:\n",
      "                         count           mean           std     min        25%  \\\n",
      "adult_mass_g            776.0  553315.199063  6.411582e+06   2.365  113.30000   \n",
      "adult_brain_mass_g      776.0     182.601653  7.420179e+02   0.071    1.88517   \n",
      "female_maturity_d       776.0     681.475995  7.581352e+02  29.980  273.44300   \n",
      "gestation_length_d      776.0     115.295250  1.010459e+02  12.000   32.99750   \n",
      "litter_size_n           776.0       2.454003  1.881835e+00   0.950    1.00000   \n",
      "litters_per_year_n      776.0       1.573449  1.122660e+00   0.120    1.00000   \n",
      "weaning_age_d           776.0     137.420766  1.495388e+02   2.170   40.61475   \n",
      "freshwater              776.0       0.046392  2.104677e-01   0.000    0.00000   \n",
      "marine                  776.0       0.059278  2.362972e-01   0.000    0.00000   \n",
      "terrestrial_non-volant  776.0       0.864691  3.422742e-01   0.000    1.00000   \n",
      "terrestrial_volant      776.0       0.094072  2.921174e-01   0.000    0.00000   \n",
      "hibernation_torpor      776.0       0.115979  3.204067e-01   0.000    0.00000   \n",
      "trophic_level           776.0       1.875000  7.860682e-01   1.000    1.00000   \n",
      "activity_cycle          776.0       1.802835  7.777833e-01   1.000    1.00000   \n",
      "habitat_breadth_n       776.0       2.585052  1.460175e+00   1.000    1.00000   \n",
      "\n",
      "                                50%           75%           max  \n",
      "adult_mass_g            1701.250000  11596.007500  1.490000e+08  \n",
      "adult_brain_mass_g        15.638965     76.647750  7.818000e+03  \n",
      "female_maturity_d        417.989525    755.512500  6.391560e+03  \n",
      "gestation_length_d        76.045000    168.433750  6.696800e+02  \n",
      "litter_size_n              1.792500      3.252500  1.689000e+01  \n",
      "litters_per_year_n         1.175000      2.000000  1.000000e+01  \n",
      "weaning_age_d             81.677500    165.486717  1.088800e+03  \n",
      "freshwater                 0.000000      0.000000  1.000000e+00  \n",
      "marine                     0.000000      0.000000  1.000000e+00  \n",
      "terrestrial_non-volant     1.000000      1.000000  1.000000e+00  \n",
      "terrestrial_volant         0.000000      0.000000  1.000000e+00  \n",
      "hibernation_torpor         0.000000      0.000000  1.000000e+00  \n",
      "trophic_level              2.000000      3.000000  3.000000e+00  \n",
      "activity_cycle             2.000000      2.000000  3.000000e+00  \n",
      "habitat_breadth_n          2.000000      4.000000  9.000000e+00  \n",
      "\n",
      "Test Features Imputed Summary:\n",
      "                         count           mean           std     min  \\\n",
      "adult_mass_g            194.0  386270.438299  3.154094e+06   5.300   \n",
      "adult_brain_mass_g      194.0     183.543487  7.124395e+02   0.120   \n",
      "female_maturity_d       194.0     686.337532  7.082358e+02  24.000   \n",
      "gestation_length_d      194.0     123.969351  1.001066e+02  12.000   \n",
      "litter_size_n           194.0       2.183012  1.792140e+00   0.995   \n",
      "litters_per_year_n      194.0       1.530303  1.193943e+00   0.200   \n",
      "weaning_age_d           194.0     156.194410  1.851338e+02  13.392   \n",
      "freshwater              194.0       0.030928  1.735701e-01   0.000   \n",
      "marine                  194.0       0.036082  1.869779e-01   0.000   \n",
      "terrestrial_non-volant  194.0       0.850515  3.574880e-01   0.000   \n",
      "terrestrial_volant      194.0       0.108247  3.114965e-01   0.000   \n",
      "hibernation_torpor      194.0       0.118557  3.241026e-01   0.000   \n",
      "trophic_level           194.0       1.804124  7.771234e-01   1.000   \n",
      "activity_cycle          194.0       1.819588  7.907679e-01   1.000   \n",
      "habitat_breadth_n       194.0       2.422680  1.401961e+00   1.000   \n",
      "\n",
      "                               25%          50%           75%           max  \n",
      "adult_mass_g            128.500000  2293.100000  17287.500000  3.880000e+07  \n",
      "adult_brain_mass_g        2.243768    15.293010    102.796263  7.111430e+03  \n",
      "female_maturity_d       276.750000   414.583355    826.017500  3.652500e+03  \n",
      "gestation_length_d       34.000000   103.828750    187.947500  4.561250e+02  \n",
      "litter_size_n             1.000000     1.134675      3.000000  1.000000e+01  \n",
      "litters_per_year_n        1.000000     1.050000      1.972500  1.000000e+01  \n",
      "weaning_age_d            42.011250    91.160000    182.766000  1.112131e+03  \n",
      "freshwater                0.000000     0.000000      0.000000  1.000000e+00  \n",
      "marine                    0.000000     0.000000      0.000000  1.000000e+00  \n",
      "terrestrial_non-volant    1.000000     1.000000      1.000000  1.000000e+00  \n",
      "terrestrial_volant        0.000000     0.000000      0.000000  1.000000e+00  \n",
      "hibernation_torpor        0.000000     0.000000      0.000000  1.000000e+00  \n",
      "trophic_level             1.000000     2.000000      2.000000  3.000000e+00  \n",
      "activity_cycle            1.000000     2.000000      2.000000  3.000000e+00  \n",
      "habitat_breadth_n         1.000000     2.000000      3.000000  7.000000e+00  \n"
     ]
    }
   ],
   "source": [
    "from sklearn.experimental import enable_iterative_imputer\n",
    "from sklearn.impute import IterativeImputer\n",
    "from sklearn.ensemble import RandomForestRegressor\n",
    "import pandas as pd\n",
    "\n",
    "# Define the RandomForestRegressor for imputation\n",
    "rf_regressor = RandomForestRegressor(n_estimators=100, random_state=42)\n",
    "\n",
    "# Initialize IterativeImputer with the RandomForestRegressor\n",
    "rf_imputer = IterativeImputer(estimator=rf_regressor, random_state=42)\n",
    "\n",
    "# Use all features (numeric, binary, and integer) for imputation\n",
    "all_features = numeric_features + binary_features + integer_features\n",
    "\n",
    "# Apply imputation on the combined training data\n",
    "train_features_imputed_all = rf_imputer.fit_transform(train_features[all_features])\n",
    "test_features_imputed_all = rf_imputer.transform(test_features[all_features])\n",
    "\n",
    "# Convert imputed arrays back to DataFrames with original column names\n",
    "train_features_imputed_all = pd.DataFrame(train_features_imputed_all, columns=all_features)\n",
    "test_features_imputed_all = pd.DataFrame(test_features_imputed_all, columns=all_features)\n",
    "\n",
    "### Separate and Round Features as Needed ###\n",
    "\n",
    "# Extract and round only `binary_features_no_order` for the final dataset\n",
    "train_binary_features_imputed = train_features_imputed_all[binary_features_no_order].round().astype(int)\n",
    "test_binary_features_imputed = test_features_imputed_all[binary_features_no_order].round().astype(int)\n",
    "\n",
    "# Extract and round integer features\n",
    "train_integer_features_imputed = train_features_imputed_all[integer_features].round().astype(int)\n",
    "test_integer_features_imputed = test_features_imputed_all[integer_features].round().astype(int)\n",
    "\n",
    "# Keep numeric features as they are\n",
    "train_numeric_features_imputed = train_features_imputed_all[numeric_features]\n",
    "test_numeric_features_imputed = test_features_imputed_all[numeric_features]\n",
    "\n",
    "# Combine back into final imputed datasets for train and test\n",
    "train_features_imputed_nogen = pd.concat([train_numeric_features_imputed, train_binary_features_imputed, train_integer_features_imputed], axis=1)\n",
    "test_features_imputed_nogen = pd.concat([test_numeric_features_imputed, test_binary_features_imputed, test_integer_features_imputed], axis=1)\n",
    "\n",
    "# Display summaries for verification\n",
    "print(\"Train Features Imputed Summary:\\n\", train_features_imputed_nogen.describe().T)\n",
    "print(\"\\nTest Features Imputed Summary:\\n\", test_features_imputed_nogen.describe().T)\n"
   ]
  },
  {
   "cell_type": "code",
   "execution_count": 22,
   "metadata": {},
   "outputs": [
    {
     "name": "stdout",
     "output_type": "stream",
     "text": [
      "<class 'pandas.core.frame.DataFrame'>\n",
      "RangeIndex: 776 entries, 0 to 775\n",
      "Data columns (total 15 columns):\n",
      " #   Column                  Non-Null Count  Dtype  \n",
      "---  ------                  --------------  -----  \n",
      " 0   adult_mass_g            776 non-null    float64\n",
      " 1   adult_brain_mass_g      776 non-null    float64\n",
      " 2   female_maturity_d       776 non-null    float64\n",
      " 3   gestation_length_d      776 non-null    float64\n",
      " 4   litter_size_n           776 non-null    float64\n",
      " 5   litters_per_year_n      776 non-null    float64\n",
      " 6   weaning_age_d           776 non-null    float64\n",
      " 7   freshwater              776 non-null    int64  \n",
      " 8   marine                  776 non-null    int64  \n",
      " 9   terrestrial_non-volant  776 non-null    int64  \n",
      " 10  terrestrial_volant      776 non-null    int64  \n",
      " 11  hibernation_torpor      776 non-null    int64  \n",
      " 12  trophic_level           776 non-null    int64  \n",
      " 13  activity_cycle          776 non-null    int64  \n",
      " 14  habitat_breadth_n       776 non-null    int64  \n",
      "dtypes: float64(7), int64(8)\n",
      "memory usage: 91.1 KB\n"
     ]
    }
   ],
   "source": [
    "train_features_imputed_nogen.info()"
   ]
  },
  {
   "cell_type": "markdown",
   "metadata": {},
   "source": [
    "# COMBINE IMPUTED AND NONIMPUTED DATA AS A DATAFRAME"
   ]
  },
  {
   "cell_type": "code",
   "execution_count": 29,
   "metadata": {},
   "outputs": [
    {
     "name": "stdout",
     "output_type": "stream",
     "text": [
      "order                      0\n",
      "family                     0\n",
      "genus                      0\n",
      "species                    0\n",
      "adult_mass_g               0\n",
      "adult_brain_mass_g         0\n",
      "female_maturity_d          0\n",
      "gestation_length_d         0\n",
      "litter_size_n              0\n",
      "litters_per_year_n         0\n",
      "weaning_age_d              0\n",
      "freshwater                 0\n",
      "marine                     0\n",
      "terrestrial_non-volant     0\n",
      "terrestrial_volant         0\n",
      "hibernation_torpor         0\n",
      "trophic_level              0\n",
      "activity_cycle             0\n",
      "habitat_breadth_n          0\n",
      "specimen origin            0\n",
      "sample size                0\n",
      "data quality               0\n",
      "maximum longevity (yrs)    0\n",
      "dtype: int64\n",
      "order                      0\n",
      "family                     0\n",
      "genus                      0\n",
      "species                    0\n",
      "adult_mass_g               0\n",
      "adult_brain_mass_g         0\n",
      "female_maturity_d          0\n",
      "gestation_length_d         0\n",
      "litter_size_n              0\n",
      "litters_per_year_n         0\n",
      "weaning_age_d              0\n",
      "freshwater                 0\n",
      "marine                     0\n",
      "terrestrial_non-volant     0\n",
      "terrestrial_volant         0\n",
      "hibernation_torpor         0\n",
      "trophic_level              0\n",
      "activity_cycle             0\n",
      "habitat_breadth_n          0\n",
      "specimen origin            0\n",
      "sample size                0\n",
      "data quality               0\n",
      "maximum longevity (yrs)    0\n",
      "dtype: int64\n"
     ]
    }
   ],
   "source": [
    "# Combine all the imputed data with the non-imputed categorical features and max_longevity_d\n",
    "\n",
    "categorical_features = ['order', 'family', 'genus', 'species']\n",
    "\n",
    "train_categorical_data = train_mammal_data_anage[categorical_features]\n",
    "train_max_specimen_origin = train_mammal_data_anage['specimen origin']\n",
    "train_max_sample_size = train_mammal_data_anage['sample size']\n",
    "train_max_data_quality = train_mammal_data_anage['data quality']\n",
    "train_max_longevity_yrs = train_mammal_data_anage['maximum longevity (yrs)']\n",
    "\n",
    "test_categorical_data = test_mammal_data_anage[categorical_features]\n",
    "test_max_specimen_origin = test_mammal_data_anage['specimen origin']\n",
    "test_max_sample_size = test_mammal_data_anage['sample size']\n",
    "test_max_data_quality = test_mammal_data_anage['data quality']\n",
    "test_max_longevity_yrs = test_mammal_data_anage['maximum longevity (yrs)']\n",
    "\n",
    "train_mammal_data_imputed_nogen = pd.concat([train_categorical_data.reset_index(drop=True),\n",
    "                                 train_features_imputed_nogen,\n",
    "                                 train_max_specimen_origin.reset_index(drop=True),\n",
    "                                train_max_sample_size.reset_index(drop=True),\n",
    "                                train_max_data_quality.reset_index(drop=True),\n",
    "                                train_max_longevity_yrs.reset_index(drop=True)], axis=1)\n",
    "\n",
    "# Check if there are any missing values left\n",
    "print(train_mammal_data_imputed_nogen.isna().sum())\n",
    "\n",
    "test_mammal_data_imputed_nogen = pd.concat([test_categorical_data.reset_index(drop=True),\n",
    "                                 test_features_imputed_nogen,\n",
    "                                test_max_specimen_origin.reset_index(drop=True),\n",
    "                                test_max_sample_size.reset_index(drop=True),\n",
    "                               test_max_data_quality.reset_index(drop=True),\n",
    "                                test_max_longevity_yrs.reset_index(drop=True)], axis=1)\n",
    "\n",
    "# Check if there are any missing values left\n",
    "print(test_mammal_data_imputed_nogen.isna().sum())\n",
    "\n",
    "# Display the imputed DataFrame\n",
    "\n",
    "train_mammal_data_imputed_nogen.to_csv('train_mammal_data_imputed_nogen.csv', index=False)\n",
    "\n",
    "# Display the imputed DataFrame\n",
    "\n",
    "test_mammal_data_imputed_nogen.to_csv('test_mammal_data_imputed_nogen.csv', index=False)\n"
   ]
  },
  {
   "cell_type": "code",
   "execution_count": 30,
   "metadata": {},
   "outputs": [
    {
     "name": "stdout",
     "output_type": "stream",
     "text": [
      "order                      0\n",
      "family                     0\n",
      "genus                      0\n",
      "species                    0\n",
      "adult_mass_g               0\n",
      "adult_brain_mass_g         0\n",
      "female_maturity_d          0\n",
      "gestation_length_d         0\n",
      "litter_size_n              0\n",
      "litters_per_year_n         0\n",
      "weaning_age_d              0\n",
      "freshwater                 0\n",
      "marine                     0\n",
      "terrestrial_non-volant     0\n",
      "terrestrial_volant         0\n",
      "hibernation_torpor         0\n",
      "trophic_level              0\n",
      "activity_cycle             0\n",
      "habitat_breadth_n          0\n",
      "specimen origin            0\n",
      "sample size                0\n",
      "data quality               0\n",
      "maximum longevity (yrs)    0\n",
      "dtype: int64\n",
      "       order      family      genus      species  adult_mass_g  \\\n",
      "0   Rodentia  Cricetidae   Phodopus  roborovskii         12.02   \n",
      "1  Carnivora  Mephitidae  Conepatus   leuconotus       2645.29   \n",
      "2  Carnivora  Viverridae    Viverra   tangalunga       7349.99   \n",
      "3  Carnivora  Mustelidae    Mustela     nigripes        907.10   \n",
      "4  Carnivora  Mustelidae     Lontra   canadensis       8087.42   \n",
      "\n",
      "   adult_brain_mass_g  female_maturity_d  gestation_length_d  litter_size_n  \\\n",
      "0             0.35013          243.00000            21.30500          6.000   \n",
      "1            15.66400          319.57800            60.00000          3.500   \n",
      "2            25.66600          671.25451           111.28773          1.920   \n",
      "3             8.80600          365.23200            43.00000          3.395   \n",
      "4            55.31200          730.00000            61.17600          2.670   \n",
      "\n",
      "   litters_per_year_n  ...  terrestrial_non-volant  terrestrial_volant  \\\n",
      "0             3.50000  ...                       1                   0   \n",
      "1             1.50000  ...                       1                   0   \n",
      "2             1.18171  ...                       1                   0   \n",
      "3             1.10000  ...                       1                   0   \n",
      "4             0.94000  ...                       1                   0   \n",
      "\n",
      "   hibernation_torpor  trophic_level  activity_cycle  habitat_breadth_n  \\\n",
      "0                   0              1               2                  2   \n",
      "1                   0              2               1                  3   \n",
      "2                   0              2               2                  2   \n",
      "3                   0              3               1                  2   \n",
      "4                   0              3               2                  5   \n",
      "\n",
      "   specimen origin  sample size  data quality maximum longevity (yrs)  \n",
      "0        captivity       medium    acceptable                     4.8  \n",
      "1        captivity         tiny    acceptable                    10.2  \n",
      "2        captivity        small  questionable                    15.0  \n",
      "3        captivity       medium    acceptable                     9.4  \n",
      "4        captivity       medium    acceptable                    27.0  \n",
      "\n",
      "[5 rows x 23 columns]\n"
     ]
    }
   ],
   "source": [
    "# Combine train and test datasets into a single main imputed dataset\n",
    "mammal_data_imputed_nogen = pd.concat([train_mammal_data_imputed_nogen, test_mammal_data_imputed_nogen], axis=0).reset_index(drop=True)\n",
    "\n",
    "# Check if there are any missing values left\n",
    "print(mammal_data_imputed_nogen.isna().sum())\n",
    "\n",
    "# Save the main imputed dataset to a CSV file\n",
    "mammal_data_imputed_nogen.to_csv('mammal_data_imputed_nogen.csv', index=False)\n",
    "\n",
    "# Display the first few rows for verification\n",
    "print(mammal_data_imputed_nogen.head())"
   ]
  },
  {
   "cell_type": "code",
   "execution_count": 31,
   "metadata": {},
   "outputs": [
    {
     "name": "stdout",
     "output_type": "stream",
     "text": [
      "['order', 'family', 'genus', 'species', 'adult_mass_g', 'adult_brain_mass_g', 'female_maturity_d', 'gestation_length_d', 'litter_size_n', 'litters_per_year_n', 'weaning_age_d', 'freshwater', 'marine', 'terrestrial_non-volant', 'terrestrial_volant', 'hibernation_torpor', 'trophic_level', 'activity_cycle', 'habitat_breadth_n', 'specimen origin', 'sample size', 'data quality', 'maximum longevity (yrs)']\n",
      "['order', 'family', 'genus', 'species', 'adult_mass_g', 'adult_brain_mass_g', 'female_maturity_d', 'gestation_length_d', 'litter_size_n', 'litters_per_year_n', 'weaning_age_d', 'freshwater', 'marine', 'terrestrial_non-volant', 'terrestrial_volant', 'hibernation_torpor', 'trophic_level', 'activity_cycle', 'habitat_breadth_n', 'specimen origin', 'sample size', 'data quality', 'maximum longevity (yrs)']\n"
     ]
    }
   ],
   "source": [
    "\n",
    "print(train_mammal_data_imputed_nogen.columns.tolist())\n",
    "print(test_mammal_data_imputed_nogen.columns.tolist())\n"
   ]
  },
  {
   "cell_type": "code",
   "execution_count": null,
   "metadata": {},
   "outputs": [],
   "source": [
    "# When I check 'specimen origin', 'sample size', 'data quality' I see that only in humans the sample size if \"huge\"\n",
    "# I convert huge to large because one sample is not helping the prediction!"
   ]
  },
  {
   "cell_type": "code",
   "execution_count": 33,
   "metadata": {},
   "outputs": [],
   "source": [
    "\n",
    "# Load the dataset\n",
    "mammal_data_imputed_nogen = pd.read_csv(\"mammal_data_imputed_nogen.csv\")\n",
    "\n",
    "# Replace 'huge' with 'large' in the 'sample size' column\n",
    "mammal_data_imputed_nogen[\"sample size\"] = mammal_data_imputed_nogen[\"sample size\"].replace(\"huge\", \"large\")\n",
    "\n",
    "# Save the modified dataset\n",
    "mammal_data_imputed_nogen.to_csv(\"mammal_data_imputed_nogen.csv\", index=False)\n"
   ]
  },
  {
   "cell_type": "code",
   "execution_count": 35,
   "metadata": {},
   "outputs": [],
   "source": [
    "# Load the dataset\n",
    "train_mammal_data_imputed_nogen = pd.read_csv(\"train_mammal_data_imputed_nogen.csv\")\n",
    "\n",
    "# Replace 'huge' with 'large' in the 'sample size' column\n",
    "train_mammal_data_anage_imputed[\"sample size\"] = train_mammal_data_anage_imputed[\"sample size\"].replace(\"huge\", \"large\")\n",
    "\n",
    "# Save the modified dataset\n",
    "train_mammal_data_anage_imputed.to_csv(\"train_mammal_data_imputed.csv\", index=False)"
   ]
  },
  {
   "cell_type": "code",
   "execution_count": 36,
   "metadata": {},
   "outputs": [
    {
     "name": "stdout",
     "output_type": "stream",
     "text": [
      "Train Data Levels:\n",
      "Specimen origin: ['captivity' 'wild' 'unknown']\n",
      "Sample size: ['medium' 'tiny' 'small' 'large']\n",
      "Data quality: ['acceptable' 'questionable' 'high']\n",
      "\n",
      "Test Data Levels:\n",
      "Specimen origin: ['captivity' 'wild' 'unknown']\n",
      "Sample size: ['small' 'tiny' 'medium' 'large']\n",
      "Data quality: ['acceptable' 'high' 'questionable']\n"
     ]
    }
   ],
   "source": [
    "# Show unique levels of categorical columns in train dataset\n",
    "print(\"Train Data Levels:\")\n",
    "print(\"Specimen origin:\", train_mammal_data_anage_imputed[\"specimen origin\"].unique())\n",
    "print(\"Sample size:\", train_mammal_data_anage_imputed[\"sample size\"].unique())\n",
    "print(\"Data quality:\", train_mammal_data_anage_imputed[\"data quality\"].unique())\n",
    "\n",
    "# Show unique levels of categorical columns in test dataset\n",
    "print(\"\\nTest Data Levels:\")\n",
    "print(\"Specimen origin:\", test_mammal_data_anage_imputed[\"specimen origin\"].unique())\n",
    "print(\"Sample size:\", test_mammal_data_anage_imputed[\"sample size\"].unique())\n",
    "print(\"Data quality:\", test_mammal_data_anage_imputed[\"data quality\"].unique())\n"
   ]
  },
  {
   "cell_type": "code",
   "execution_count": 37,
   "metadata": {},
   "outputs": [
    {
     "data": {
      "image/png": "[encoded data removed]",
      "text/plain": [
       "<Figure size 576x432 with 1 Axes>"
      ]
     },
     "metadata": {
      "needs_background": "light"
     },
     "output_type": "display_data"
    },
    {
     "data": {
      "image/png": "[encoded data removed]",
      "text/plain": [
       "<Figure size 576x432 with 1 Axes>"
      ]
     },
     "metadata": {
      "needs_background": "light"
     },
     "output_type": "display_data"
    },
    {
     "data": {
      "image/png": "[encoded data removed]",
      "text/plain": [
       "<Figure size 576x432 with 1 Axes>"
      ]
     },
     "metadata": {
      "needs_background": "light"
     },
     "output_type": "display_data"
    }
   ],
   "source": [
    "\n",
    "# Set plot style\n",
    "plt.style.use(\"ggplot\")\n",
    "\n",
    "# Define the categorical features and their order\n",
    "categorical_order = {\"specimen origin\": ['captivity', 'wild', 'unknown'],\n",
    "    \"sample size\": [\"tiny\", \"small\", \"medium\", \"large\", \"huge\"],\n",
    "    \"data quality\": [\"questionable\", \"acceptable\", \"high\"]\n",
    "}\n",
    "\n",
    "# Create dot plots with standard deviation bars for each categorical feature\n",
    "for feature in [\"specimen origin\", \"sample size\", \"data quality\"]:\n",
    "    plt.figure(figsize=(8, 6))\n",
    "\n",
    "    # Define order if applicable\n",
    "    order = categorical_order.get(feature, None)\n",
    "\n",
    "    # Compute means and standard deviations\n",
    "    grouped = mammal_data_imputed_nogen.groupby(feature)[\"maximum longevity (yrs)\"]\n",
    "    means = grouped.mean()\n",
    "    std_devs = grouped.std()\n",
    "\n",
    "    # Plot the dot plot (strip plot)\n",
    "    sns.stripplot(x=mammal_data_imputed_nogen[feature],\n",
    "                  y=mammal_data_imputed_nogen[\"maximum longevity (yrs)\"],\n",
    "                  order=order,\n",
    "                  jitter=True,\n",
    "                  size=5,\n",
    "                  alpha=0.7,\n",
    "                  zorder=2)\n",
    "\n",
    "    # Overlay standard deviation as error bars\n",
    "    plt.errorbar(means.index, means, yerr=std_devs, fmt='o', color='black', capsize=5, label='Mean ± SD')\n",
    "\n",
    "    plt.xlabel(feature)\n",
    "    plt.ylabel(\"Maximum Lifespan (years)\")\n",
    "    plt.title(f\"Maximum Lifespan vs. {feature}\")\n",
    "    plt.xticks(rotation=45)  # Rotate x-axis labels if necessary\n",
    "    plt.legend()\n",
    "    plt.show()\n"
   ]
  },
  {
   "cell_type": "code",
   "execution_count": 60,
   "metadata": {},
   "outputs": [
    {
     "data": {
      "image/png": "[encoded data removed]",
      "text/plain": [
       "<Figure size 576x432 with 1 Axes>"
      ]
     },
     "metadata": {},
     "output_type": "display_data"
    },
    {
     "data": {
      "image/png": "[encoded data removed]",
      "text/plain": [
       "<Figure size 576x432 with 1 Axes>"
      ]
     },
     "metadata": {},
     "output_type": "display_data"
    },
    {
     "data": {
      "image/png": "[encoded data removed]",
      "text/plain": [
       "<Figure size 576x432 with 1 Axes>"
      ]
     },
     "metadata": {},
     "output_type": "display_data"
    }
   ],
   "source": [
    "# Set plot style\n",
    "plt.style.use(\"ggplot\")\n",
    "\n",
    "# Define the categorical features and their order\n",
    "categorical_order = {\"specimen origin\": ['captivity', 'wild', 'unknown'],\n",
    "    \"sample size\": [\"tiny\", \"small\", \"medium\", \"large\", \"huge\"],\n",
    "    \"data quality\": [\"questionable\", \"acceptable\", \"high\"]\n",
    "}\n",
    "\n",
    "# Create dot plots with standard deviation bars for each categorical feature\n",
    "for feature in [\"specimen origin\", \"sample size\", \"data quality\"]:\n",
    "    plt.figure(figsize=(8, 6))\n",
    "\n",
    "    # Define order if applicable\n",
    "    order = categorical_order.get(feature, None)\n",
    "\n",
    "    # Compute means and standard deviations\n",
    "    grouped = mammal_data_anage_imputed.groupby(feature)[\"maximum longevity (yrs)\"]\n",
    "    means = grouped.mean()\n",
    "    std_devs = grouped.std()\n",
    "\n",
    "    # Plot the dot plot (strip plot)\n",
    "    sns.stripplot(x=train_mammal_data_anage_imputed[feature],\n",
    "                  y=train_mammal_data_anage_imputed[\"maximum longevity (yrs)\"],\n",
    "                  order=order,\n",
    "                  jitter=True,\n",
    "                  size=5,\n",
    "                  alpha=0.7,\n",
    "                  zorder=2)\n",
    "\n",
    "    # Overlay standard deviation as error bars\n",
    "    plt.errorbar(means.index, means, yerr=std_devs, fmt='o', color='black', capsize=5, label='Mean ± SD')\n",
    "\n",
    "    plt.xlabel(feature)\n",
    "    plt.ylabel(\"Maximum Lifespan (years)\")\n",
    "    plt.title(f\"Maximum Lifespan vs. {feature}\")\n",
    "    plt.xticks(rotation=45)  # Rotate x-axis labels if necessary\n",
    "    plt.legend()\n",
    "    plt.show()"
   ]
  },
  {
   "cell_type": "code",
   "execution_count": null,
   "metadata": {},
   "outputs": [],
   "source": []
  }
 ],
 "metadata": {
  "colab": {
   "provenance": []
  },
  "kernelspec": {
   "display_name": "Python 3 (ipykernel)",
   "language": "python",
   "name": "python3"
  },
  "language_info": {
   "codemirror_mode": {
    "name": "ipython",
    "version": 3
   },
   "file_extension": ".py",
   "mimetype": "text/x-python",
   "name": "python",
   "nbconvert_exporter": "python",
   "pygments_lexer": "ipython3",
   "version": "3.8.4"
  }
 },
 "nbformat": 4,
 "nbformat_minor": 1
}
